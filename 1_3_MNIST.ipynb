{
  "cells": [
    {
      "cell_type": "markdown",
      "metadata": {
        "id": "view-in-github",
        "colab_type": "text"
      },
      "source": [
        "<a href=\"https://colab.research.google.com/github/haegomm/ai_practice/blob/master/1_3_MNIST.ipynb\" target=\"_parent\"><img src=\"https://colab.research.google.com/assets/colab-badge.svg\" alt=\"Open In Colab\"/></a>"
      ]
    },
    {
      "cell_type": "markdown",
      "metadata": {
        "id": "OPJenlrhihrh"
      },
      "source": [
        "# MNIST 실습"
      ]
    },
    {
      "cell_type": "code",
      "execution_count": 11,
      "metadata": {
        "id": "6lXVfXoDtoQh"
      },
      "outputs": [],
      "source": [
        "import torch\n",
        "import torchvision\n",
        "import torchvision.transforms as transforms"
      ]
    },
    {
      "cell_type": "markdown",
      "metadata": {
        "id": "BEM6WQ50YnxZ"
      },
      "source": [
        "##[MY CODE] Test data 준비하기\n",
        "  학습 데이터셋과 테스트 데이터셋 구분하여 준비</br>\n",
        "  테스트 데이터는 랜덤하게 섞을 필요가 없기 때문에 shuffle을 False로 지정"
      ]
    },
    {
      "cell_type": "code",
      "execution_count": 12,
      "metadata": {
        "id": "KAYlqPaRt6ti"
      },
      "outputs": [],
      "source": [
        "transform = transforms.Compose([\n",
        "    transforms.ToTensor(),\n",
        "    transforms.Normalize((0.5,), (0.5,))\n",
        "])\n",
        "\n",
        "trainset = torchvision.datasets.MNIST(root='./data', train=True, download=True, transform=transform)\n",
        "trainloader = torch.utils.data.DataLoader(trainset, batch_size=256, shuffle=True)\n",
        "\n",
        "testset = torchvision.datasets.MNIST(root='./data', train=False, download=True, transform=transform) #[MY CODE] train=False 설정\n",
        "testloader = torch.utils.data.DataLoader(testset, batch_size=256, shuffle=False) #[MY CODE] shuffle=False 설정"
      ]
    },
    {
      "cell_type": "code",
      "execution_count": 13,
      "metadata": {
        "colab": {
          "base_uri": "https://localhost:8080/",
          "height": 485
        },
        "id": "Zsp3sHmojyhT",
        "outputId": "95091cef-8fa9-4832-d72b-3ea68f23cd6e"
      },
      "outputs": [
        {
          "output_type": "stream",
          "name": "stdout",
          "text": [
            "60000\n",
            "torch.Size([1, 28, 28]) 5\n"
          ]
        },
        {
          "output_type": "execute_result",
          "data": {
            "text/plain": [
              "<matplotlib.image.AxesImage at 0x7a63c98f5e10>"
            ]
          },
          "metadata": {},
          "execution_count": 13
        },
        {
          "output_type": "display_data",
          "data": {
            "text/plain": [
              "<Figure size 640x480 with 1 Axes>"
            ],
            "image/png": "[encoded data removed]"
          },
          "metadata": {}
        }
      ],
      "source": [
        "from matplotlib import pyplot as plt\n",
        "\n",
        "print(len(trainset))\n",
        "print(trainset[0][0].shape, trainset[0][1])\n",
        "plt.imshow(trainset[0][0][0], cmap='gray')"
      ]
    },
    {
      "cell_type": "code",
      "execution_count": 14,
      "metadata": {
        "colab": {
          "base_uri": "https://localhost:8080/"
        },
        "id": "yCrSyGD3Cb1z",
        "outputId": "d5ad25e5-d860-4c21-8745-4ed52e1c053b"
      },
      "outputs": [
        {
          "output_type": "stream",
          "name": "stdout",
          "text": [
            "torch.Size([256, 1, 28, 28]) torch.Size([256])\n"
          ]
        }
      ],
      "source": [
        "dataiter = iter(trainloader)\n",
        "images, labels = next(dataiter)\n",
        "print(images.shape, labels.shape)"
      ]
    },
    {
      "cell_type": "markdown",
      "metadata": {
        "id": "zeNPpaFOo65U"
      },
      "source": [
        "##[MY CODE] output dimension 수정"
      ]
    },
    {
      "cell_type": "code",
      "execution_count": 15,
      "metadata": {
        "id": "OLOA-ZGTuVVG"
      },
      "outputs": [],
      "source": [
        "from torch import nn\n",
        "\n",
        "\n",
        "class Model(nn.Module):\n",
        "  def __init__(self, input_dim, n_dim, num_classes):\n",
        "    super().__init__()\n",
        "\n",
        "    self.layer1 = nn.Linear(input_dim, n_dim)\n",
        "    self.layer2 = nn.Linear(n_dim, n_dim)\n",
        "    self.layer3 = nn.Linear(n_dim, num_classes) # [MY CODE] output dimension 수정\n",
        "\n",
        "    self.act = nn.ReLU()\n",
        "\n",
        "  def forward(self, x):\n",
        "    x = torch.flatten(x, start_dim=1)\n",
        "    x = self.act(self.layer1(x))\n",
        "    x = self.act(self.layer2(x))\n",
        "    x = self.layer3(x)\n",
        "\n",
        "    return x\n",
        "\n",
        "\n",
        "model = Model(28 * 28 * 1, 1024, num_classes=10)"
      ]
    },
    {
      "cell_type": "markdown",
      "metadata": {
        "id": "663JDEI4pZ8x"
      },
      "source": [
        "##[MY CODE] 모델 평가 함수 추가"
      ]
    },
    {
      "cell_type": "code",
      "execution_count": 16,
      "metadata": {
        "id": "gI5kD2ITpPKS"
      },
      "outputs": [],
      "source": [
        "def accuracy(model, dataloader):\n",
        "  cnt = 0\n",
        "  acc = 0\n",
        "\n",
        "  for data in dataloader:\n",
        "    inputs, labels = data\n",
        "    inputs, labels = inputs.to('cuda'), labels.to('cuda')\n",
        "\n",
        "    preds = model(inputs)\n",
        "    preds = torch.argmax(preds, dim=-1)\n",
        "\n",
        "    cnt += labels.shape[0]\n",
        "    acc += (labels == preds).sum().item()\n",
        "\n",
        "  return acc / cnt"
      ]
    },
    {
      "cell_type": "markdown",
      "metadata": {
        "id": "BazbVZsYpfz_"
      },
      "source": [
        "##[MY CODE] 그래프 그리기 함수 추가"
      ]
    },
    {
      "cell_type": "code",
      "execution_count": 17,
      "metadata": {
        "id": "TYvMmc1KpTA5"
      },
      "outputs": [],
      "source": [
        "import numpy as np\n",
        "import matplotlib.pyplot as plt\n",
        "\n",
        "def plot_acc(train_accs, test_accs, label1='train', label2='test'):\n",
        "  x = np.arange(len(train_accs))\n",
        "\n",
        "  plt.plot(x, train_accs, label=label1)\n",
        "  plt.plot(x, test_accs, label=label2)\n",
        "  plt.legend()\n",
        "  plt.show()"
      ]
    },
    {
      "cell_type": "markdown",
      "metadata": {
        "id": "ntQz2RnRssg7"
      },
      "source": [
        "##[MY CODE] 분류를 위한 cross entropy loss 사용"
      ]
    },
    {
      "cell_type": "code",
      "execution_count": 18,
      "metadata": {
        "id": "ypS0TcOlvBhZ"
      },
      "outputs": [],
      "source": [
        "from torch.optim import SGD\n",
        "\n",
        "lr = 0.001\n",
        "model = model.to('cuda')\n",
        "\n",
        "criterion = nn.CrossEntropyLoss() # [MY CODE] 분류를 위한 cross entropy loss 사용\n",
        "optimizer = SGD(model.parameters(), lr=lr)"
      ]
    },
    {
      "cell_type": "markdown",
      "metadata": {
        "id": "JABGbcxGf0pQ"
      },
      "source": [
        "##[LOG] 학습 과정에서의 Epoch별 손실값 출력"
      ]
    },
    {
      "cell_type": "code",
      "execution_count": 19,
      "metadata": {
        "colab": {
          "base_uri": "https://localhost:8080/"
        },
        "id": "TryX1hewvNiB",
        "outputId": "46a745f2-e522-41ac-e068-7b7578a66b5b"
      },
      "outputs": [
        {
          "output_type": "stream",
          "name": "stdout",
          "text": [
            "Epoch   0 | Loss: 528.9379 | Train Accuracy: 0.4668 | Test Accuracy: 0.4822\n",
            "Epoch   1 | Loss: 506.7869 | Train Accuracy: 0.6009 | Test Accuracy: 0.6122\n",
            "Epoch   2 | Loss: 481.9072 | Train Accuracy: 0.6560 | Test Accuracy: 0.6671\n",
            "Epoch   3 | Loss: 451.9528 | Train Accuracy: 0.6906 | Test Accuracy: 0.7040\n",
            "Epoch   4 | Loss: 416.3746 | Train Accuracy: 0.7082 | Test Accuracy: 0.7216\n",
            "Epoch   5 | Loss: 376.7019 | Train Accuracy: 0.7350 | Test Accuracy: 0.7485\n",
            "Epoch   6 | Loss: 336.0071 | Train Accuracy: 0.7592 | Test Accuracy: 0.7707\n",
            "Epoch   7 | Loss: 297.8031 | Train Accuracy: 0.7817 | Test Accuracy: 0.7922\n",
            "Epoch   8 | Loss: 264.4522 | Train Accuracy: 0.7964 | Test Accuracy: 0.8067\n",
            "Epoch   9 | Loss: 236.8072 | Train Accuracy: 0.8101 | Test Accuracy: 0.8195\n",
            "Epoch  10 | Loss: 214.1869 | Train Accuracy: 0.8204 | Test Accuracy: 0.8265\n",
            "Epoch  11 | Loss: 195.9071 | Train Accuracy: 0.8276 | Test Accuracy: 0.8347\n",
            "Epoch  12 | Loss: 180.9952 | Train Accuracy: 0.8358 | Test Accuracy: 0.8436\n",
            "Epoch  13 | Loss: 168.8394 | Train Accuracy: 0.8421 | Test Accuracy: 0.8487\n",
            "Epoch  14 | Loss: 158.6638 | Train Accuracy: 0.8457 | Test Accuracy: 0.8516\n",
            "Epoch  15 | Loss: 150.2461 | Train Accuracy: 0.8507 | Test Accuracy: 0.8585\n",
            "Epoch  16 | Loss: 142.9923 | Train Accuracy: 0.8548 | Test Accuracy: 0.8616\n",
            "Epoch  17 | Loss: 136.8865 | Train Accuracy: 0.8587 | Test Accuracy: 0.8656\n",
            "Epoch  18 | Loss: 131.5996 | Train Accuracy: 0.8614 | Test Accuracy: 0.8688\n",
            "Epoch  19 | Loss: 126.9307 | Train Accuracy: 0.8650 | Test Accuracy: 0.8712\n",
            "Epoch  20 | Loss: 122.8724 | Train Accuracy: 0.8677 | Test Accuracy: 0.8738\n",
            "Epoch  21 | Loss: 119.2179 | Train Accuracy: 0.8704 | Test Accuracy: 0.8781\n",
            "Epoch  22 | Loss: 116.0548 | Train Accuracy: 0.8721 | Test Accuracy: 0.8790\n",
            "Epoch  23 | Loss: 113.1153 | Train Accuracy: 0.8736 | Test Accuracy: 0.8813\n",
            "Epoch  24 | Loss: 110.4825 | Train Accuracy: 0.8763 | Test Accuracy: 0.8822\n",
            "Epoch  25 | Loss: 108.1280 | Train Accuracy: 0.8773 | Test Accuracy: 0.8834\n",
            "Epoch  26 | Loss: 105.9771 | Train Accuracy: 0.8793 | Test Accuracy: 0.8859\n",
            "Epoch  27 | Loss: 104.0139 | Train Accuracy: 0.8815 | Test Accuracy: 0.8873\n",
            "Epoch  28 | Loss: 102.2735 | Train Accuracy: 0.8822 | Test Accuracy: 0.8881\n",
            "Epoch  29 | Loss: 100.5824 | Train Accuracy: 0.8831 | Test Accuracy: 0.8884\n",
            "Epoch  30 | Loss: 99.0908 | Train Accuracy: 0.8850 | Test Accuracy: 0.8898\n",
            "Epoch  31 | Loss: 97.6390 | Train Accuracy: 0.8865 | Test Accuracy: 0.8919\n",
            "Epoch  32 | Loss: 96.2802 | Train Accuracy: 0.8868 | Test Accuracy: 0.8921\n",
            "Epoch  33 | Loss: 95.1420 | Train Accuracy: 0.8877 | Test Accuracy: 0.8931\n",
            "Epoch  34 | Loss: 93.9246 | Train Accuracy: 0.8891 | Test Accuracy: 0.8945\n",
            "Epoch  35 | Loss: 92.8225 | Train Accuracy: 0.8901 | Test Accuracy: 0.8947\n",
            "Epoch  36 | Loss: 91.8150 | Train Accuracy: 0.8914 | Test Accuracy: 0.8965\n",
            "Epoch  37 | Loss: 90.8307 | Train Accuracy: 0.8921 | Test Accuracy: 0.8968\n",
            "Epoch  38 | Loss: 90.0156 | Train Accuracy: 0.8931 | Test Accuracy: 0.8978\n",
            "Epoch  39 | Loss: 89.1595 | Train Accuracy: 0.8940 | Test Accuracy: 0.8982\n",
            "Epoch  40 | Loss: 88.2503 | Train Accuracy: 0.8948 | Test Accuracy: 0.8984\n",
            "Epoch  41 | Loss: 87.5832 | Train Accuracy: 0.8956 | Test Accuracy: 0.9003\n",
            "Epoch  42 | Loss: 86.8616 | Train Accuracy: 0.8960 | Test Accuracy: 0.9005\n",
            "Epoch  43 | Loss: 86.0776 | Train Accuracy: 0.8967 | Test Accuracy: 0.9011\n",
            "Epoch  44 | Loss: 85.5495 | Train Accuracy: 0.8973 | Test Accuracy: 0.9006\n",
            "Epoch  45 | Loss: 84.7514 | Train Accuracy: 0.8979 | Test Accuracy: 0.9025\n",
            "Epoch  46 | Loss: 84.0347 | Train Accuracy: 0.8988 | Test Accuracy: 0.9029\n",
            "Epoch  47 | Loss: 83.6204 | Train Accuracy: 0.8997 | Test Accuracy: 0.9035\n",
            "Epoch  48 | Loss: 83.0952 | Train Accuracy: 0.8999 | Test Accuracy: 0.9039\n",
            "Epoch  49 | Loss: 82.4342 | Train Accuracy: 0.9002 | Test Accuracy: 0.9042\n",
            "Epoch  50 | Loss: 81.9354 | Train Accuracy: 0.9007 | Test Accuracy: 0.9043\n",
            "Epoch  51 | Loss: 81.3733 | Train Accuracy: 0.9018 | Test Accuracy: 0.9053\n",
            "Epoch  52 | Loss: 80.9293 | Train Accuracy: 0.9022 | Test Accuracy: 0.9058\n",
            "Epoch  53 | Loss: 80.3708 | Train Accuracy: 0.9031 | Test Accuracy: 0.9067\n",
            "Epoch  54 | Loss: 80.0688 | Train Accuracy: 0.9031 | Test Accuracy: 0.9069\n",
            "Epoch  55 | Loss: 79.4974 | Train Accuracy: 0.9033 | Test Accuracy: 0.9064\n",
            "Epoch  56 | Loss: 79.0733 | Train Accuracy: 0.9038 | Test Accuracy: 0.9081\n",
            "Epoch  57 | Loss: 78.6383 | Train Accuracy: 0.9046 | Test Accuracy: 0.9088\n",
            "Epoch  58 | Loss: 78.3451 | Train Accuracy: 0.9048 | Test Accuracy: 0.9093\n",
            "Epoch  59 | Loss: 77.9343 | Train Accuracy: 0.9054 | Test Accuracy: 0.9097\n",
            "Epoch  60 | Loss: 77.5592 | Train Accuracy: 0.9058 | Test Accuracy: 0.9095\n",
            "Epoch  61 | Loss: 77.2390 | Train Accuracy: 0.9061 | Test Accuracy: 0.9093\n",
            "Epoch  62 | Loss: 76.7961 | Train Accuracy: 0.9069 | Test Accuracy: 0.9113\n",
            "Epoch  63 | Loss: 76.3480 | Train Accuracy: 0.9067 | Test Accuracy: 0.9111\n",
            "Epoch  64 | Loss: 76.0885 | Train Accuracy: 0.9070 | Test Accuracy: 0.9118\n",
            "Epoch  65 | Loss: 75.7928 | Train Accuracy: 0.9072 | Test Accuracy: 0.9116\n",
            "Epoch  66 | Loss: 75.4110 | Train Accuracy: 0.9076 | Test Accuracy: 0.9124\n",
            "Epoch  67 | Loss: 75.0438 | Train Accuracy: 0.9079 | Test Accuracy: 0.9134\n",
            "Epoch  68 | Loss: 74.8088 | Train Accuracy: 0.9089 | Test Accuracy: 0.9130\n",
            "Epoch  69 | Loss: 74.4992 | Train Accuracy: 0.9089 | Test Accuracy: 0.9132\n",
            "Epoch  70 | Loss: 74.1921 | Train Accuracy: 0.9090 | Test Accuracy: 0.9138\n",
            "Epoch  71 | Loss: 73.8720 | Train Accuracy: 0.9095 | Test Accuracy: 0.9140\n",
            "Epoch  72 | Loss: 73.5714 | Train Accuracy: 0.9101 | Test Accuracy: 0.9145\n",
            "Epoch  73 | Loss: 73.2380 | Train Accuracy: 0.9103 | Test Accuracy: 0.9149\n",
            "Epoch  74 | Loss: 73.0715 | Train Accuracy: 0.9106 | Test Accuracy: 0.9147\n",
            "Epoch  75 | Loss: 72.6933 | Train Accuracy: 0.9110 | Test Accuracy: 0.9148\n",
            "Epoch  76 | Loss: 72.3887 | Train Accuracy: 0.9108 | Test Accuracy: 0.9156\n",
            "Epoch  77 | Loss: 72.1775 | Train Accuracy: 0.9115 | Test Accuracy: 0.9157\n",
            "Epoch  78 | Loss: 71.8908 | Train Accuracy: 0.9118 | Test Accuracy: 0.9158\n",
            "Epoch  79 | Loss: 71.7462 | Train Accuracy: 0.9123 | Test Accuracy: 0.9164\n",
            "Epoch  80 | Loss: 71.3836 | Train Accuracy: 0.9125 | Test Accuracy: 0.9168\n",
            "Epoch  81 | Loss: 71.1194 | Train Accuracy: 0.9126 | Test Accuracy: 0.9170\n",
            "Epoch  82 | Loss: 70.9539 | Train Accuracy: 0.9130 | Test Accuracy: 0.9179\n",
            "Epoch  83 | Loss: 70.6317 | Train Accuracy: 0.9133 | Test Accuracy: 0.9177\n",
            "Epoch  84 | Loss: 70.3678 | Train Accuracy: 0.9138 | Test Accuracy: 0.9174\n",
            "Epoch  85 | Loss: 70.1500 | Train Accuracy: 0.9136 | Test Accuracy: 0.9183\n",
            "Epoch  86 | Loss: 69.9244 | Train Accuracy: 0.9142 | Test Accuracy: 0.9186\n",
            "Epoch  87 | Loss: 69.7068 | Train Accuracy: 0.9149 | Test Accuracy: 0.9190\n",
            "Epoch  88 | Loss: 69.5641 | Train Accuracy: 0.9146 | Test Accuracy: 0.9182\n",
            "Epoch  89 | Loss: 69.3032 | Train Accuracy: 0.9149 | Test Accuracy: 0.9194\n",
            "Epoch  90 | Loss: 69.0101 | Train Accuracy: 0.9152 | Test Accuracy: 0.9192\n",
            "Epoch  91 | Loss: 68.8202 | Train Accuracy: 0.9154 | Test Accuracy: 0.9191\n",
            "Epoch  92 | Loss: 68.5390 | Train Accuracy: 0.9156 | Test Accuracy: 0.9202\n",
            "Epoch  93 | Loss: 68.3576 | Train Accuracy: 0.9162 | Test Accuracy: 0.9204\n",
            "Epoch  94 | Loss: 68.1885 | Train Accuracy: 0.9163 | Test Accuracy: 0.9206\n",
            "Epoch  95 | Loss: 67.9562 | Train Accuracy: 0.9164 | Test Accuracy: 0.9204\n",
            "Epoch  96 | Loss: 67.7538 | Train Accuracy: 0.9169 | Test Accuracy: 0.9208\n",
            "Epoch  97 | Loss: 67.5317 | Train Accuracy: 0.9173 | Test Accuracy: 0.9213\n",
            "Epoch  98 | Loss: 67.2875 | Train Accuracy: 0.9169 | Test Accuracy: 0.9210\n",
            "Epoch  99 | Loss: 67.1223 | Train Accuracy: 0.9176 | Test Accuracy: 0.9211\n"
          ]
        }
      ],
      "source": [
        "n_epochs = 100\n",
        "\n",
        "train_accuracies = []\n",
        "test_accuracies = []\n",
        "\n",
        "for epoch in range(n_epochs):\n",
        "  total_loss = 0.\n",
        "  correct_train = 0\n",
        "  total_train = 0\n",
        "\n",
        "  model.train() # 학습\n",
        "  for data in trainloader:\n",
        "    model.zero_grad()\n",
        "    inputs, labels = data\n",
        "    inputs, labels = inputs.to('cuda'), labels.to('cuda')\n",
        "\n",
        "    preds = model(inputs)\n",
        "    loss = criterion(preds, labels)\n",
        "    loss.backward()\n",
        "    optimizer.step()\n",
        "\n",
        "    total_loss += loss.item()\n",
        "\n",
        "  # 학습 정확도 계산\n",
        "  train_accuracy = accuracy(model, trainloader)\n",
        "  test_accuracy = accuracy(model, testloader)\n",
        "\n",
        "  train_accuracies.append(train_accuracy)\n",
        "  test_accuracies.append(test_accuracy)\n",
        "\n",
        "  print(f\"Epoch {epoch:3d} | Loss: {total_loss:.4f} | \"f\"Train Accuracy: {train_accuracy:.4f} | Test Accuracy: {test_accuracy:.4f}\")"
      ]
    },
    {
      "cell_type": "markdown",
      "metadata": {
        "id": "EUcpreWl-nev"
      },
      "source": [
        "##[LOG] Epoch에 따른 train과 test data에 대한 모델 정확도 plot"
      ]
    },
    {
      "cell_type": "code",
      "execution_count": 20,
      "metadata": {
        "colab": {
          "base_uri": "https://localhost:8080/",
          "height": 430
        },
        "id": "6CdaScNJ-W0M",
        "outputId": "81b8053b-62ea-46c8-85d2-5bce2f29765a"
      },
      "outputs": [
        {
          "output_type": "display_data",
          "data": {
            "text/plain": [
              "<Figure size 640x480 with 1 Axes>"
            ],
            "image/png": "[encoded data removed]"
          },
          "metadata": {}
        }
      ],
      "source": [
        "plot_acc(train_accuracies, test_accuracies)"
      ]
    },
    {
      "cell_type": "code",
      "execution_count": 21,
      "metadata": {
        "colab": {
          "base_uri": "https://localhost:8080/"
        },
        "id": "Zct0ssSKwjt1",
        "outputId": "c9387a97-c47a-40cb-8a09-98d23d76836e"
      },
      "outputs": [
        {
          "output_type": "stream",
          "name": "stdout",
          "text": [
            "tensor([[ 0.8146, -4.0795,  0.4928,  4.5659, -5.9181,  5.5554, -2.6495, -0.3713,\n",
            "          0.1767, -0.6096]], device='cuda:0', grad_fn=<AddmmBackward0>)\n",
            "5\n"
          ]
        }
      ],
      "source": [
        "idx = 0\n",
        "\n",
        "x = trainset[idx][0][None]  # (1, 1, 28, 28)\n",
        "x = x.to('cuda')\n",
        "\n",
        "print(model(x))\n",
        "print(trainset[idx][1])"
      ]
    },
    {
      "cell_type": "markdown",
      "source": [
        "##[FEEDBACK] 초기화 궁금증\n",
        "강의에서는 optimizer.zero_grad()로 optimizer를 초기화 했습니다. </br>\n",
        "그런데 MNIST 과제 자료에서는 model을 초기화 하던데 어떤 걸 초기화해도 상관 없는 것일까요? </br>\n",
        "실제로 model를 초기화해보기도 하고 optimizer을 초기화해보기도 했었는데 큰 차이는 보이지 않았습니다.\n"
      ],
      "metadata": {
        "id": "kpThDFME4RJB"
      }
    }
  ],
  "metadata": {
    "accelerator": "GPU",
    "colab": {
      "gpuType": "T4",
      "provenance": [],
      "include_colab_link": true
    },
    "kernelspec": {
      "display_name": "Python 3",
      "name": "python3"
    },
    "language_info": {
      "name": "python"
    }
  },
  "nbformat": 4,
  "nbformat_minor": 0
}